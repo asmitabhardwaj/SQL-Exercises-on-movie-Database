{
 "cells": [
  {
   "cell_type": "markdown",
   "id": "cd8bdda5",
   "metadata": {},
   "source": [
    "# SQL Exercises, Practice, Solution - BASIC exercises on movie Database"
   ]
  },
  {
   "cell_type": "markdown",
   "id": "19b17521",
   "metadata": {},
   "source": [
    "SQL [10 exercises with solution]"
   ]
  },
  {
   "cell_type": "markdown",
   "id": "34451c35",
   "metadata": {},
   "source": [
    "Sample Database description:\n",
    "\n",
    "The sample database represents some of the data storage and retrieval about a movie related industry. Most of the people loves to watch movie, and for all of them we are providing a sample information about the movie related questions coming to their mind. This design of database will make it easier to the movie lovers to know the curiocities about the movies.\n",
    "\n",
    "List of tables in the movie database:\n",
    "\n",
    "actor\n",
    "genres\n",
    "director\n",
    "movie\n",
    "movie_genres\n",
    "movie_direction\n",
    "reviewer\n",
    "rating\n",
    "movie_cast"
   ]
  },
  {
   "cell_type": "code",
   "execution_count": 1,
   "id": "f5072ee4",
   "metadata": {},
   "outputs": [],
   "source": [
    "#1. From the following table, write a SQL query to find the name and year of the movies. Return movie title, movie release year."
   ]
  },
  {
   "cell_type": "markdown",
   "id": "c012a0e1",
   "metadata": {},
   "source": [
    "select mov_title, mov_dt_rel from movie;"
   ]
  },
  {
   "cell_type": "code",
   "execution_count": 2,
   "id": "0d7311ec",
   "metadata": {},
   "outputs": [],
   "source": [
    "#2. From the following table, write a SQL query to find when the movie 'American Beauty' released. Return movie release year."
   ]
  },
  {
   "cell_type": "markdown",
   "id": "df74b136",
   "metadata": {},
   "source": [
    "select  mov_year from movie where mov_title ='American Beauty';"
   ]
  },
  {
   "cell_type": "code",
   "execution_count": 3,
   "id": "63497117",
   "metadata": {},
   "outputs": [],
   "source": [
    "#3. From the following table, write a SQL query to find the movie that was released in 1999. Return movie title."
   ]
  },
  {
   "cell_type": "markdown",
   "id": "cc9df583",
   "metadata": {},
   "source": [
    "select  mov_title from movie where mov_year = 1999;"
   ]
  },
  {
   "cell_type": "code",
   "execution_count": 4,
   "id": "a1b1c763",
   "metadata": {},
   "outputs": [],
   "source": [
    "#4 From the following table, write a SQL query to find those movies, which were released before 1998. Return movie title."
   ]
  },
  {
   "cell_type": "markdown",
   "id": "7af01e34",
   "metadata": {},
   "source": [
    "select  mov_title from movie where mov_year < 1998;"
   ]
  },
  {
   "cell_type": "code",
   "execution_count": 5,
   "id": "c9fd608f",
   "metadata": {},
   "outputs": [],
   "source": [
    "#5. From the following tables, write a SQL query to find the name of all reviewers and movies together in a single list."
   ]
  },
  {
   "cell_type": "markdown",
   "id": "8568dffb",
   "metadata": {},
   "source": [
    "select  reviewer.rev_name from reviewer union \n",
    "(select movie.mov_title from movie);"
   ]
  },
  {
   "cell_type": "code",
   "execution_count": 6,
   "id": "5238ec2c",
   "metadata": {},
   "outputs": [],
   "source": [
    "#6. From the following table, write a SQL query to find all reviewers who have rated seven or more stars to their rating. Return reviewer name."
   ]
  },
  {
   "cell_type": "markdown",
   "id": "3d664600",
   "metadata": {},
   "source": [
    "select  re.rev_name from reviewer re  join\n",
    "rating ra on ra.rev_id=re.rev_id\n",
    "where ra.rev_stars >= 7;"
   ]
  },
  {
   "cell_type": "code",
   "execution_count": 7,
   "id": "f853bacc",
   "metadata": {},
   "outputs": [],
   "source": [
    "#7. From the following tables, write a SQL query to find the movies without any rating. Return movie title."
   ]
  },
  {
   "cell_type": "markdown",
   "id": "68cc2501",
   "metadata": {},
   "source": [
    "select  mov_title from movie \n",
    "where mov_id not in (select mov_id from rating);"
   ]
  },
  {
   "cell_type": "code",
   "execution_count": 8,
   "id": "70123823",
   "metadata": {},
   "outputs": [],
   "source": [
    "#8. From the following table, write a SQL query to find the movies with ID 905 or 907 or 917. Return movie title."
   ]
  },
  {
   "cell_type": "markdown",
   "id": "f6c969c6",
   "metadata": {},
   "source": [
    "select  mov_title from movie \n",
    "where mov_id in (905,907,917);"
   ]
  },
  {
   "cell_type": "code",
   "execution_count": 9,
   "id": "e52dc180",
   "metadata": {},
   "outputs": [],
   "source": [
    "#9. From the following table, write a SQL query to find the movie titles that contain the word 'Boogie Nights'. Sort the result-set in ascending order by movie year. Return movie ID, movie title and movie release year."
   ]
  },
  {
   "cell_type": "markdown",
   "id": "331cdfa6",
   "metadata": {},
   "source": [
    "select  mov_id,mov_title,mov_dt_rel,mov_year from movie where mov_title like '%Boogie Nights%' \n",
    "order by mov_year;"
   ]
  },
  {
   "cell_type": "code",
   "execution_count": null,
   "id": "dea2b0b8",
   "metadata": {},
   "outputs": [],
   "source": [
    "#10. From the following table, write a SQL query to find those actors with the first name 'Woody' and the last name 'Allen'. Return actor ID."
   ]
  },
  {
   "cell_type": "markdown",
   "id": "e4f02b07",
   "metadata": {},
   "source": [
    "select act_id from actor where act_fname ='Woody' and act_lname ='Allen';"
   ]
  },
  {
   "cell_type": "markdown",
   "id": "30bf47d6",
   "metadata": {},
   "source": [
    "Exercise URL: https://www.w3resource.com/sql-exercises/movie-database-exercise/basic-exercises-on-movie-database.php#SQLEDITOR"
   ]
  },
  {
   "cell_type": "markdown",
   "id": "50d5b8d6",
   "metadata": {},
   "source": [
    "# Subqueries"
   ]
  },
  {
   "cell_type": "code",
   "execution_count": null,
   "id": "9169c799",
   "metadata": {},
   "outputs": [],
   "source": [
    "#1. From the following table, write a SQL query to find the actors who played a role in the movie 'Annie Hall'. Return all the fields of actor table."
   ]
  },
  {
   "cell_type": "markdown",
   "id": "e11954a1",
   "metadata": {},
   "source": [
    "select * from actor \n",
    "where act_id IN\n",
    "(select act_id from movie_cast\n",
    "where mov_id IN\n",
    "\n",
    "(select mov_id from movie where mov_title ='Annie Hall'));"
   ]
  },
  {
   "cell_type": "code",
   "execution_count": 1,
   "id": "718aba3b",
   "metadata": {},
   "outputs": [],
   "source": [
    "#2. From the following tables, write a SQL query to find the director of a film that cast a role in 'Eyes Wide Shut'. Return director first name, last name."
   ]
  },
  {
   "cell_type": "markdown",
   "id": "f10a2cdc",
   "metadata": {},
   "source": [
    "select dir_fname , dir_lname from director\n",
    "where dir_id IN\n",
    "(select dir_id from movie_direction\n",
    "where mov_id IN\n",
    "(select mov_id from movie_cast\n",
    "where mov_id IN\n",
    "(select mov_id from movie \n",
    "where mov_title ='Eyes Wide Shut')));"
   ]
  },
  {
   "cell_type": "code",
   "execution_count": null,
   "id": "8a2296ae",
   "metadata": {},
   "outputs": [],
   "source": [
    "#3. From the following table, write a SQL query to find those movies that have been released in countries other than the United Kingdom. Return movie title, movie year, movie time, and date of release, releasing country."
   ]
  },
  {
   "cell_type": "markdown",
   "id": "42049fe2",
   "metadata": {},
   "source": [
    "select mov_title ,mov_year, mov_time, mov_dt_rel, mov_rel_country from movie\n",
    "where mov_rel_country !='UK';"
   ]
  },
  {
   "cell_type": "code",
   "execution_count": 2,
   "id": "1be433a2",
   "metadata": {},
   "outputs": [],
   "source": [
    "#4. From the following tables, write a SQL query to find for movies whose reviewer is unknown. Return movie title, year, release date, director first name, last name, actor first name, last name."
   ]
  },
  {
   "cell_type": "code",
   "execution_count": null,
   "id": "67364bc7",
   "metadata": {},
   "outputs": [],
   "source": [
    "select mov_title,mov_year,mov_time,mov_dt_rel,dir_fname,dir_lname,act_fname,\n",
    "act_lname from movie a, movie_direction b, director c, \n",
    "rating d, reviewer e, actor f, movie_cast g \n",
    "where a.mov_id=b.mov_id and\n",
    "b.dir_id=c.dir_id and\n",
    "a.mov_id=d.mov_id and\n",
    "e.rev_id=d.rev_id and\n",
    "a.mov_id=g.mov_id and\n",
    "\n",
    "g.act_id=f.act_id and\n",
    "\n",
    "e.rev_name IS NULL;"
   ]
  },
  {
   "cell_type": "code",
   "execution_count": 1,
   "id": "df05b0c2",
   "metadata": {},
   "outputs": [],
   "source": [
    "#5. From the following tables, write a SQL query to find those movies directed by the director whose first name is Woddy and last name is Allen. Return movie title."
   ]
  },
  {
   "cell_type": "markdown",
   "id": "e2e1a2aa",
   "metadata": {},
   "source": [
    "select mov_title from movie \n",
    "where mov_id = (select mov_id from movie_direction\n",
    "where dir_id = (select dir_id from director\n",
    "where dir_fname= 'Woody' and dir_lname='Allen'));"
   ]
  },
  {
   "cell_type": "code",
   "execution_count": 2,
   "id": "dab4d3bc",
   "metadata": {},
   "outputs": [],
   "source": [
    "#6. From the following tables, write a SQL query to determine those years in which there was at least one movie that received a rating of at least three stars. Sort the result-set in ascending order by movie year. Return movie year."
   ]
  },
  {
   "cell_type": "markdown",
   "id": "2097cf73",
   "metadata": {},
   "source": [
    "select distinct mov_year from movie where\n",
    "mov_id IN (select mov_id from rating where  rev_stars >=3) order by mov_year;"
   ]
  },
  {
   "cell_type": "code",
   "execution_count": 3,
   "id": "2373b66d",
   "metadata": {},
   "outputs": [],
   "source": [
    "#7. From the following table, write a SQL query to search for movies that do not have any ratings. Return movie title."
   ]
  },
  {
   "cell_type": "markdown",
   "id": "6d6126a3",
   "metadata": {},
   "source": [
    "select distinct mov_title from movie where mov_id IN\n",
    "(select mov_id from movie \n",
    "where mov_id NOT IN(select mov_id from rating));"
   ]
  },
  {
   "cell_type": "code",
   "execution_count": 4,
   "id": "5742e865",
   "metadata": {},
   "outputs": [],
   "source": [
    "#8. From the following table, write a SQL query to find those reviewers who have not given a rating to certain films. Return reviewer name."
   ]
  },
  {
   "cell_type": "markdown",
   "id": "014acece",
   "metadata": {},
   "source": [
    "select distinct rev_name from reviewer where rev_id IN\n",
    "(select rev_id from rating where rev_stars IS NULL);"
   ]
  },
  {
   "cell_type": "code",
   "execution_count": 5,
   "id": "f201aee7",
   "metadata": {},
   "outputs": [],
   "source": [
    "#9. From the following tables, write a SQL query to find movies that have been reviewed by a reviewer and received a rating. Sort the result-set in ascending order by reviewer name, movie title, review Stars. Return reviewer name, movie title, review Stars."
   ]
  },
  {
   "cell_type": "markdown",
   "id": "a9b0f79a",
   "metadata": {},
   "source": [
    "select rev_name,mov_title,rev_stars from movie m ,reviewer r ,rating rs\n",
    "where r.rev_id =rs.rev_id \n",
    "and m.mov_id=rs.mov_id\n",
    "and rs.rev_stars IS NOT NULL\n",
    "and r.rev_name IS NOT NULL\n",
    "order by rev_name,mov_title,rev_stars;"
   ]
  },
  {
   "cell_type": "code",
   "execution_count": 6,
   "id": "453d75cf",
   "metadata": {},
   "outputs": [],
   "source": [
    "#10. From the following table, write a SQL query to find movies that have been reviewed by a reviewer and received a rating. Group the result set on reviewer’s name, movie title. Return reviewer’s name, movie title."
   ]
  },
  {
   "cell_type": "markdown",
   "id": "f77f5dcc",
   "metadata": {},
   "source": [
    "select rev_name,mov_title from movie m , reviewer r,rating r2 where\n",
    "r.rev_id=r2.rev_id and\n",
    "r2.mov_id=m.mov_id and\n",
    "r2.rev_stars IS NOT NULL and\n",
    "r.rev_name IS NOT NULL\n",
    "group by r.rev_name,m.mov_title ; \n"
   ]
  },
  {
   "cell_type": "code",
   "execution_count": 7,
   "id": "6f5b38b4",
   "metadata": {},
   "outputs": [],
   "source": [
    "#11. From the following tables, write a SQL query to find those movies, which have received highest number of stars. Group the result set on movie title and sorts the result-set in ascending order by movie title. Return movie title and maximum number of review stars."
   ]
  },
  {
   "cell_type": "markdown",
   "id": "0481fa6a",
   "metadata": {},
   "source": [
    " select mov_title,max(rev_stars) from movie,rating where \n",
    "movie.mov_id =rating.mov_id\n",
    "and rating.rev_stars is not null\n",
    "group by mov_title\n",
    "order by mov_title;"
   ]
  },
  {
   "cell_type": "code",
   "execution_count": 8,
   "id": "61699152",
   "metadata": {},
   "outputs": [],
   "source": [
    "#12. From the following tables, write a SQL query to find all reviewers who rated the movie 'American Beauty'. Return reviewer name."
   ]
  },
  {
   "cell_type": "markdown",
   "id": "a6b4918d",
   "metadata": {},
   "source": [
    "select rev_name from reviewer where \n",
    "rev_id IN (select rev_id from reviewer\n",
    "where rev_id IN (select rev_id from rating\n",
    "where mov_id IN (select mov_id from movie\n",
    "where mov_title ='American Beauty')));"
   ]
  },
  {
   "cell_type": "code",
   "execution_count": 9,
   "id": "ccec1fc3",
   "metadata": {},
   "outputs": [],
   "source": [
    "#13. From the following table, write a SQL query to find the movies that have not been reviewed by any reviewer body other than 'Paul Monks'. Return movie title."
   ]
  },
  {
   "cell_type": "markdown",
   "id": "300b63b2",
   "metadata": {},
   "source": [
    "select mov_title from movie where mov_id IN\n",
    "(select mov_id from rating\n",
    "where rev_id NOT IN(select rev_id from reviewer where \n",
    "rev_name='Paul Monks'));\n"
   ]
  },
  {
   "cell_type": "code",
   "execution_count": 1,
   "id": "dd5e34db",
   "metadata": {},
   "outputs": [],
   "source": [
    "#14. From the following table, write a SQL query to find the movies with the lowest ratings. Return reviewer name, movie title, and number of stars for those movies."
   ]
  },
  {
   "cell_type": "markdown",
   "id": "29527b08",
   "metadata": {},
   "source": [
    "select r.rev_name,m.mov_title,r2.rev_stars from reviewer r, movie m , rating r2 \n",
    "where r2.rev_stars in(select min(r2.rev_stars) from rating r2)\n",
    "and r2.mov_id=m.mov_id\n",
    "and r.rev_id =r2.rev_id;"
   ]
  },
  {
   "cell_type": "code",
   "execution_count": 2,
   "id": "ca642c6f",
   "metadata": {},
   "outputs": [],
   "source": [
    "#15. From the following tables, write a SQL query to find the movies directed by 'James Cameron'. Return movie title."
   ]
  },
  {
   "cell_type": "markdown",
   "id": "c974c223",
   "metadata": {},
   "source": [
    "select mov_title from movie where \n",
    "mov_id in (select mov_id from movie_direction \n",
    "where dir_id in(select dir_id from director where\n",
    " dir_fname='James' and dir_lname='Cameron'));"
   ]
  },
  {
   "cell_type": "code",
   "execution_count": 4,
   "id": "18e9ef4c",
   "metadata": {},
   "outputs": [],
   "source": [
    "#16. Write a query in SQL to find the movies in which one or more actors appeared in more than one film."
   ]
  },
  {
   "cell_type": "markdown",
   "id": "8674e3a8",
   "metadata": {},
   "source": [
    "select mov_title from movie \n",
    "where mov_id in (select mov_id from movie_cast\n",
    "where act_id in(select act_id from actor\n",
    "where act_id in(select act_id from movie_cast\n",
    "group by act_id having count(act_id)>1)));"
   ]
  },
  {
   "cell_type": "markdown",
   "id": "f416b5a2",
   "metadata": {},
   "source": [
    "# JOINS"
   ]
  },
  {
   "cell_type": "code",
   "execution_count": 5,
   "id": "6bcae951",
   "metadata": {},
   "outputs": [],
   "source": [
    "#1. From the following table, write a SQL query to find all reviewers whose ratings contain a NULL value. Return reviewer name."
   ]
  },
  {
   "cell_type": "markdown",
   "id": "5fe87709",
   "metadata": {},
   "source": [
    "select rev_name from reviewer  join rating  \n",
    "on rating.rev_id =reviewer.rev_id \n",
    "where rev_stars IS NULL;"
   ]
  },
  {
   "cell_type": "code",
   "execution_count": 1,
   "id": "bd5f7436",
   "metadata": {},
   "outputs": [],
   "source": [
    "#2. From the following table, write a SQL query to find out who was cast in the movie 'Annie Hall'. Return actor first name, last name and role."
   ]
  },
  {
   "cell_type": "markdown",
   "id": "fb24c255",
   "metadata": {},
   "source": [
    "select act_fname,act_lname,role from movie_cast \n",
    "join actor  on movie_cast.act_id=actor.act_id\n",
    "join movie  on movie_cast.mov_id=movie.mov_id\n",
    "where mov_title='Annie Hall';"
   ]
  },
  {
   "cell_type": "code",
   "execution_count": 3,
   "id": "4230ccca",
   "metadata": {},
   "outputs": [],
   "source": [
    "#3. From the following table, write a SQL query to find the director who directed a movie that featured a role in 'Eyes Wide Shut'. Return director first name, last name and movie title."
   ]
  },
  {
   "cell_type": "markdown",
   "id": "cff1ea24",
   "metadata": {},
   "source": [
    "select dir_fname,dir_lname,mov_title from director\n",
    "join movie_direction on director.dir_id=movie_direction.dir_id\n",
    "join movie_cast on  movie_direction.mov_id=movie_cast.mov_id\n",
    "join movie on movie_cast.mov_id=movie.mov_id\n",
    "where mov_title='Eyes Wide Shut';"
   ]
  },
  {
   "cell_type": "code",
   "execution_count": 4,
   "id": "0f9bf002",
   "metadata": {},
   "outputs": [],
   "source": [
    "#4. From the following tables, write a SQL query to find the director of a movie that cast a role as Sean Maguire. Return director first name, last name and movie title."
   ]
  },
  {
   "cell_type": "markdown",
   "id": "76e096b4",
   "metadata": {},
   "source": [
    "select dir_fname,dir_lname,mov_title from director\n",
    "join movie_direction on director.dir_id=movie_direction.dir_id\n",
    "join movie_cast on movie_direction.mov_id=movie_cast.mov_id\n",
    "join movie on movie_cast.mov_id=movie.mov_id\n",
    "where role='Sean Maguire';"
   ]
  },
  {
   "cell_type": "code",
   "execution_count": 5,
   "id": "256317a9",
   "metadata": {},
   "outputs": [],
   "source": [
    "#5. From the following table, write a SQL query to find out which actors have not appeared in any movies between 1990 and 2000 (Begin and end values are included.). Return actor first name, last name, movie title and release year."
   ]
  },
  {
   "cell_type": "markdown",
   "id": "bf9e6a10",
   "metadata": {},
   "source": [
    "select act_fname,act_lname,mov_title,mov_year,mov_dt_rel from actor\n",
    "join movie_cast on actor.act_id=movie_cast.act_id \n",
    "join movie on movie_cast.mov_id=movie.mov_id\n",
    "where mov_year not between 1990 and 2000;"
   ]
  },
  {
   "cell_type": "code",
   "execution_count": 6,
   "id": "73ba8570",
   "metadata": {},
   "outputs": [],
   "source": [
    "#6. From the following table, write a SQL query to find the directors who have directed films in a variety of genres. Group the result set on director first name, last name and generic title. Sort the result-set in ascending order by director first name and last name. Return director first name, last name and number of genres movies."
   ]
  },
  {
   "cell_type": "markdown",
   "id": "7e22a870",
   "metadata": {},
   "source": [
    "select dir_fname,dir_lname,gen_title,count(gen_title) from director\n",
    "join movie_direction on director.dir_id=movie_direction.dir_id\n",
    "join movie_genres on movie_direction.mov_id= movie_genres.mov_id\n",
    "join genres on movie_genres.gen_id=genres.gen_id\n",
    "group by dir_fname,dir_lname,gen_title\n",
    "order by  dir_fname,dir_lname;\n"
   ]
  },
  {
   "cell_type": "code",
   "execution_count": 7,
   "id": "9ac8038f",
   "metadata": {},
   "outputs": [],
   "source": [
    "#7. From the following table, write a SQL query to find the movies with year and genres. Return movie title, movie year and generic title."
   ]
  },
  {
   "cell_type": "markdown",
   "id": "918936cf",
   "metadata": {},
   "source": [
    "SELECT mov_title, mov_year, gen_title\n",
    "FROM movie\n",
    "NATURAL JOIN movie_genres\n",
    "NATURAL JOIN genres;"
   ]
  },
  {
   "cell_type": "code",
   "execution_count": 3,
   "id": "d6877d16",
   "metadata": {},
   "outputs": [],
   "source": [
    "#8. From the following tables, write a SQL query to find all the movies with year, genres, and name of the director."
   ]
  },
  {
   "cell_type": "markdown",
   "id": "c7c49159",
   "metadata": {},
   "source": [
    "select mov_title,mov_year,gen_title,dir_fname,dir_lname from movie \n",
    "natural join genres\n",
    "natural join movie_genres\n",
    "natural join director\n",
    "natural join movie_direction;"
   ]
  },
  {
   "cell_type": "code",
   "execution_count": null,
   "id": "d9f88393",
   "metadata": {},
   "outputs": [],
   "source": [
    "#9. From the following tables, write a SQL query to find the movies released before 1st January 1989. Sort the result-set in descending order by date of release. Return movie title, release year, date of release, duration, and first and last name of the director."
   ]
  },
  {
   "cell_type": "markdown",
   "id": "4e20699f",
   "metadata": {},
   "source": [
    "select mov_title,mov_year,mov_dt_rel,mov_time,dir_fname,dir_lname\n",
    "from movie join movie_direction on movie.mov_id = movie_direction.mov_id\n",
    "join director on movie_direction.dir_id=director.dir_id\n",
    "where mov_dt_rel < '01/01/1989'\n",
    "order by mov_dt_rel desc;"
   ]
  },
  {
   "cell_type": "code",
   "execution_count": 4,
   "id": "f4f929ac",
   "metadata": {},
   "outputs": [],
   "source": [
    "#10. From the following table, write a SQL query to calculate the average movie length and count the number of movies in each genre. Return genre title, average time and number of movies for each genre."
   ]
  },
  {
   "cell_type": "markdown",
   "id": "785c4e3c",
   "metadata": {},
   "source": [
    "select gen_title,avg(mov_time),count(gen_title) from movie \n",
    "join movie_genres on movie.mov_id =movie_genres.mov_id\n",
    "join genres on movie_genres.gen_id = genres.gen_id \n",
    "group by gen_title;"
   ]
  },
  {
   "cell_type": "code",
   "execution_count": null,
   "id": "94ffc003",
   "metadata": {},
   "outputs": [],
   "source": [
    "#11. From the following table, write a SQL query to find movies with the shortest duration. Return movie title, movie year, director first name, last name, actor first name, last name and role."
   ]
  },
  {
   "cell_type": "markdown",
   "id": "41afd83f",
   "metadata": {},
   "source": [
    "select mov_title,mov_year,dir_fname,dir_lname,act_fname,act_lname,role from actor join movie_cast on actor.act_id=movie_cast.act_id join movie on \n",
    "movie_cast.mov_id=movie.mov_id join movie_direction on movie.mov_id=movie_direction.mov_id join director on movie_direction.dir_id=\n",
    "director.dir_id\n",
    "where mov_time =(select min(mov_time) from movie ) ;"
   ]
  },
  {
   "cell_type": "code",
   "execution_count": 5,
   "id": "46557b09",
   "metadata": {},
   "outputs": [],
   "source": [
    "#12. From the following table, write a SQL query to find the years in which a movie received a rating of 3 or 4. Sort the result in increasing order on movie year."
   ]
  },
  {
   "cell_type": "markdown",
   "id": "28862df5",
   "metadata": {},
   "source": [
    "select distinct mov_year from movie join rating on \n",
    "movie.mov_id =rating.mov_id \n",
    "where rev_stars in (3,4)\n",
    "\n",
    "order by mov_year;"
   ]
  },
  {
   "cell_type": "code",
   "execution_count": null,
   "id": "d6161249",
   "metadata": {},
   "outputs": [],
   "source": [
    "#13.From the following tables, write a SQL query to get the reviewer name, movie title, and stars in an order that reviewer name will come first, then by movie title, and lastly by number of stars."
   ]
  },
  {
   "cell_type": "markdown",
   "id": "b124f786",
   "metadata": {},
   "source": [
    "select rev_name,mov_title,rev_stars from movie join rating on \n",
    "movie.mov_id =rating.mov_id join reviewer on rating.rev_id=reviewer.rev_id\n",
    "where rev_name is not null\n",
    "order by rev_name,mov_title,rev_stars;"
   ]
  },
  {
   "cell_type": "code",
   "execution_count": 6,
   "id": "c5944882",
   "metadata": {},
   "outputs": [],
   "source": [
    "#14. From the following table, write a SQL query to find those movies that have at least one rating and received the most stars. Sort the result-set on movie title. Return movie title and maximum review stars."
   ]
  },
  {
   "cell_type": "markdown",
   "id": "9c18f099",
   "metadata": {},
   "source": [
    "select mov_title ,max(rev_stars)from movie join rating on \n",
    "movie.mov_id=rating.mov_id \n",
    "group by mov_title\n",
    "having max(rev_stars)>0\n",
    "order by mov_title;"
   ]
  },
  {
   "cell_type": "code",
   "execution_count": 7,
   "id": "36fa79c2",
   "metadata": {},
   "outputs": [],
   "source": [
    "#15. From the following table, write a SQL query to find out which movies have received ratings. Return movie title, director first name, director last name and review stars."
   ]
  },
  {
   "cell_type": "markdown",
   "id": "06f2edfe",
   "metadata": {},
   "source": [
    "select mov_title ,dir_fname,dir_lname,rev_stars from movie join \n",
    "rating on movie.mov_id=rating.mov_id join movie_direction on \n",
    "rating.mov_id=movie_direction.mov_id join director on \n",
    "movie_direction.dir_id=director.dir_id\n",
    "where rev_stars is not null;"
   ]
  },
  {
   "cell_type": "code",
   "execution_count": 8,
   "id": "0663b971",
   "metadata": {},
   "outputs": [],
   "source": [
    "#16. From the following table, write a SQL query to find movies in which one or more actors have acted in more than one film. Return movie title, actor first and last name, and the role."
   ]
  },
  {
   "cell_type": "markdown",
   "id": "d4715c65",
   "metadata": {},
   "source": [
    "select mov_title ,act_fname,act_lname,role from movie join movie_cast on \n",
    "movie.mov_id=movie_cast.mov_id join actor on movie_cast.act_id =actor.act_id\n",
    "where actor.act_id in (select act_id from movie_cast group by act_id having count(*)>=2);"
   ]
  },
  {
   "cell_type": "code",
   "execution_count": null,
   "id": "8e3f96f9",
   "metadata": {},
   "outputs": [],
   "source": [
    "#17. From the following tables, write a SQL query to find the actor whose first name is 'Claire' and last name is 'Danes'. Return director first name, last name, movie title, actor first name and last name, role."
   ]
  },
  {
   "cell_type": "markdown",
   "id": "bf8ba3b5",
   "metadata": {},
   "source": [
    "select dir_fname,dir_lname,mov_title,act_fname,act_lname,role from director\n",
    "join movie_direction on director.dir_id=movie_direction.dir_id join movie on \n",
    "movie_direction.mov_id=movie.mov_id join movie_cast on movie.mov_id =movie_cast.mov_id join actor on actor.act_id =movie_cast.act_id \n",
    "where act_fname='Claire' and act_lname='Danes';"
   ]
  },
  {
   "cell_type": "code",
   "execution_count": 2,
   "id": "18e4b6b5",
   "metadata": {},
   "outputs": [],
   "source": [
    "#18. From the following table, write a SQL query to find for actors whose films have been directed by them. Return actor first name, last name, movie title and role."
   ]
  },
  {
   "cell_type": "markdown",
   "id": "a31ab971",
   "metadata": {},
   "source": [
    "select act_fname,act_lname,mov_title,role from  director join movie_direction on \n",
    "director.dir_id=movie_direction.dir_id join movie on movie.mov_id=movie_direction.mov_id join  movie_cast on movie.mov_id=movie_cast.mov_id join actor on actor.act_id=movie_cast.act_id\n",
    "where act_fname=dir_fname and act_lname=dir_lname; "
   ]
  },
  {
   "cell_type": "code",
   "execution_count": 9,
   "id": "30b1e4bc",
   "metadata": {},
   "outputs": [],
   "source": [
    "#19. From the following tables, write a SQL query to find the cast list of the movie ‘Chinatown’. Return first name, last name."
   ]
  },
  {
   "cell_type": "markdown",
   "id": "878a08af",
   "metadata": {},
   "source": [
    "select act_fname,act_lname from movie join movie_cast on \n",
    "movie.mov_id=movie_cast.mov_id join actor on movie_cast.act_id =actor.act_id\n",
    "where mov_title='Chinatown';"
   ]
  },
  {
   "cell_type": "code",
   "execution_count": 1,
   "id": "b335b4fe",
   "metadata": {},
   "outputs": [],
   "source": [
    "#20. From the following tables, write a SQL query to find those movies where actor’s first name is 'Harrison' and last name is 'Ford'. Return movie title."
   ]
  },
  {
   "cell_type": "markdown",
   "id": "ea250e8d",
   "metadata": {},
   "source": [
    "select mov_title from movie join movie_cast on movie.mov_id =movie_cast.mov_id\n",
    "join actor on actor.act_id = movie_cast.act_id\n",
    "where act_fname='Harrison' and act_lname='Ford';"
   ]
  },
  {
   "cell_type": "code",
   "execution_count": 3,
   "id": "a8933c50",
   "metadata": {},
   "outputs": [],
   "source": [
    "#21. From the following tables, write a SQL query to find the highest-rated movies. Return movie title, movie year, review stars and releasing country."
   ]
  },
  {
   "cell_type": "markdown",
   "id": "ce1da272",
   "metadata": {},
   "source": [
    "select mov_title,mov_year,rev_stars,mov_rel_country from movie join rating on \n",
    "movie.mov_id=rating.mov_id \n",
    "where rev_stars=(select max(rev_stars) from rating);"
   ]
  },
  {
   "cell_type": "code",
   "execution_count": 4,
   "id": "b3ede569",
   "metadata": {},
   "outputs": [],
   "source": [
    "#22. From the following tables, write a SQL query to find the highest-rated ‘Mystery Movies’. Return the title, year, and rating."
   ]
  },
  {
   "cell_type": "markdown",
   "id": "1dba7701",
   "metadata": {},
   "source": [
    "select mov_title,mov_year,rev_stars from movie join rating on \n",
    "movie.mov_id=rating.mov_id join movie_genres on rating.mov_id=movie_genres.mov_id\n",
    "join genres on movie_genres.gen_id=genres.gen_id\n",
    "where gen_title='Mystery';"
   ]
  },
  {
   "cell_type": "code",
   "execution_count": 5,
   "id": "42e9c7ef",
   "metadata": {},
   "outputs": [],
   "source": [
    "#23. From the following tables, write a SQL query to find the years when most of the ‘Mystery Movies’ produced. Count the number of generic title and compute their average rating. Group the result set on movie release year, generic title. Return movie year, generic title, number of generic title and average rating."
   ]
  },
  {
   "cell_type": "markdown",
   "id": "847b8ecd",
   "metadata": {},
   "source": [
    "select mov_year,gen_title,count(gen_title),avg(rev_stars)from movie join rating \n",
    "on movie.mov_id=rating.mov_id join movie_genres on rating.mov_id=movie_genres.mov_id join genres on movie_genres.gen_id=genres.gen_id\n",
    "where gen_title='Mystery'\n",
    "group by mov_year,gen_title;"
   ]
  },
  {
   "cell_type": "code",
   "execution_count": 6,
   "id": "4efa15db",
   "metadata": {},
   "outputs": [],
   "source": [
    "#24. From the following tables, write a query in SQL to generate a report, which contain the fields movie title, name of the female actor, year of the movie, role, movie genres, the director, date of release, and rating of that movie."
   ]
  },
  {
   "cell_type": "markdown",
   "id": "3790ce5d",
   "metadata": {},
   "source": [
    "select mov_title, act_fname, act_lname, \n",
    "mov_year, role, gen_title, dir_fname, dir_lname, \n",
    "mov_dt_rel, rev_stars\n",
    "FROM movie \n",
    "natural join movie_cast\n",
    "natural join actor\n",
    "natural join movie_genres\n",
    "natural join genres\n",
    "natural join movie_direction\n",
    "natural join director\n",
    "natural join rating\n",
    "WHERE act_gender='F';"
   ]
  },
  {
   "cell_type": "code",
   "execution_count": null,
   "id": "ec51ce65",
   "metadata": {},
   "outputs": [],
   "source": []
  }
 ],
 "metadata": {
  "kernelspec": {
   "display_name": "Python 3",
   "language": "python",
   "name": "python3"
  },
  "language_info": {
   "codemirror_mode": {
    "name": "ipython",
    "version": 3
   },
   "file_extension": ".py",
   "mimetype": "text/x-python",
   "name": "python",
   "nbconvert_exporter": "python",
   "pygments_lexer": "ipython3",
   "version": "3.8.8"
  }
 },
 "nbformat": 4,
 "nbformat_minor": 5
}
